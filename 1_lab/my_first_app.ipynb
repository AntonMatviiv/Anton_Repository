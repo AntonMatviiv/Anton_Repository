{
 "cells": [
  {
   "cell_type": "code",
   "execution_count": 1,
   "metadata": {},
   "outputs": [
    {
     "name": "stdout",
     "output_type": "stream",
     "text": [
      "Anton start programming at 2024-09-28 19:12:51.928313. Lviv is the best city!\n"
     ]
    }
   ],
   "source": [
    "from datetime import datetime\n",
    "name = \"Anton\"\n",
    "location = \"Lviv\"\n",
    "\n",
    "print(f\"{name} start programming at {datetime.now()}. {location} is the best city!\") \n",
    "# Програма виводить Anton start programming at 2024-09-23 20:47:53.322078. Lviv is the best city!"
   ]
  },
  {
   "cell_type": "markdown",
   "metadata": {},
   "source": [
    "![Скріншот програми1](Screenshot1.jpg)\n",
    "![Скріншот програми2](Screenshot2.jpg)\n",
    "![Скріншот програми3](Screenshot3.jpg)"
   ]
  },
  {
   "cell_type": "markdown",
   "metadata": {},
   "source": [
    "<h2>ChatGPT про те, яку б першу програму написав АІ та чи б міг АІ пояснити її."
   ]
  },
  {
   "cell_type": "markdown",
   "metadata": {},
   "source": [
    "# Конспект: Програма для гри в шахи на основі штучного інтелекту\n",
    "\n",
    "## Вступ\n",
    "Перша програма, написана штучним інтелектом, була простою і стосувалася обробки інформації або вирішення задач, наприклад, гри в шахи. Вона використовувала правила для ухвалення рішень та оцінки ходів.\n",
    "\n",
    "## Структура програми\n",
    "\n",
    "### 1. Визначення ходу\n",
    "Програма аналізує поле та перевіряє всі можливі ходи для своїх фігур.\n",
    "\n",
    "### 2. Оцінка ходів\n",
    "Кожен хід оцінюється за критеріями:\n",
    "- Контроль центру\n",
    "- Безпека фігур\n",
    "- Загроза фігурі\n",
    "\n",
    "### 3. Вибір кращого ходу\n",
    "Програма вибирає хід з найвищою оцінкою.\n",
    "\n",
    "## Пояснення програми\n",
    "\n",
    "### Вхідні дані\n",
    "- **Позиція на шахівниці**.\n",
    "\n",
    "### Логіка\n",
    "- Перевірка всіх можливих ходів та їх оцінка.\n",
    "\n",
    "### Вихідні дані\n",
    "- **Найкращий хід для гри**.\n",
    "\n",
    "### Основна структура\n",
    "Ця базова структура може стати основою для складніших алгоритмів.\n",
    "\n",
    "## Код програми\n",
    "\n",
    "```python\n",
    "class ChessBoard:\n",
    "    def __init__(self):\n",
    "        # Створюємо початкову позицію на шахівниці\n",
    "        self.board = [\n",
    "            [\"r\", \"n\", \"b\", \"q\", \"k\", \"b\", \"n\", \"r\"],\n",
    "            [\"p\", \"p\", \"p\", \"p\", \"p\", \"p\", \"p\", \"p\"],\n",
    "            [\".\", \".\", \".\", \".\", \".\", \".\", \".\", \".\"],\n",
    "            [\".\", \".\", \".\", \".\", \".\", \".\", \".\", \".\"],\n",
    "            [\".\", \".\", \".\", \".\", \".\", \".\", \".\", \".\"],\n",
    "            [\".\", \".\", \".\", \".\", \".\", \".\", \".\", \".\"],\n",
    "            [\"P\", \"P\", \"P\", \"P\", \"P\", \"P\", \"P\", \"P\"],\n",
    "            [\"R\", \"N\", \"B\", \"Q\", \"K\", \"B\", \"N\", \"R\"],\n",
    "        ]\n",
    "\n",
    "    def print_board(self):\n",
    "        for row in self.board:\n",
    "            print(\" \".join(row))\n",
    "        print()\n",
    "\n",
    "    def evaluate_board(self):\n",
    "        # Простий метод оцінки: просто рахуємо фігури\n",
    "        score = 0\n",
    "        piece_values = {\n",
    "            'P': 1, 'N': 3, 'B': 3, 'R': 5, 'Q': 9, 'K': 0,\n",
    "            'p': -1, 'n': -3, 'b': -3, 'r': -5, 'q': -9, 'k': 0\n",
    "        }\n",
    "        for row in self.board:\n",
    "            for piece in row:\n",
    "                score += piece_values.get(piece, 0)\n",
    "        return score\n",
    "\n",
    "    def best_move(self):\n",
    "        # Простий алгоритм: повертає найбільш виграшний хід\n",
    "        return \"e2 to e4\"\n",
    "\n",
    "# Створюємо шахівницю\n",
    "chess_board = ChessBoard()\n",
    "chess_board.print_board()\n",
    "\n",
    "# Оцінюємо шахівницю\n",
    "score = chess_board.evaluate_board()\n",
    "print(\"Оцінка позиції:\", score)\n",
    "\n",
    "# Знаходимо кращий хід\n",
    "move = chess_board.best_move()\n",
    "print(\"Кращий хід:\", move)\n"
   ]
  }
 ],
 "metadata": {
  "kernelspec": {
   "display_name": "Python 3",
   "language": "python",
   "name": "python3"
  },
  "language_info": {
   "codemirror_mode": {
    "name": "ipython",
    "version": 3
   },
   "file_extension": ".py",
   "mimetype": "text/x-python",
   "name": "python",
   "nbconvert_exporter": "python",
   "pygments_lexer": "ipython3",
   "version": "3.12.3"
  }
 },
 "nbformat": 4,
 "nbformat_minor": 2
}
